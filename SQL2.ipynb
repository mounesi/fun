{
  "nbformat": 4,
  "nbformat_minor": 0,
  "metadata": {
    "colab": {
      "name": "SQL2.ipynb",
      "provenance": [],
      "authorship_tag": "ABX9TyOdGFjat8ePg/SjYHnREw2f",
      "include_colab_link": true
    },
    "kernelspec": {
      "name": "python3",
      "display_name": "Python 3"
    }
  },
  "cells": [
    {
      "cell_type": "markdown",
      "metadata": {
        "id": "view-in-github",
        "colab_type": "text"
      },
      "source": [
        "<a href=\"https://colab.research.google.com/github/mounesi/fun/blob/master/SQL2.ipynb\" target=\"_parent\"><img src=\"https://colab.research.google.com/assets/colab-badge.svg\" alt=\"Open In Colab\"/></a>"
      ]
    },
    {
      "cell_type": "markdown",
      "metadata": {
        "id": "kjyJ8uqoLqN8",
        "colab_type": "text"
      },
      "source": [
        "https://docs.google.com/document/d/1y1VkH_ieCV3da05Md3m167TQvlzKkO-vMVAt3nEOlps/edit"
      ]
    }
  ]
}