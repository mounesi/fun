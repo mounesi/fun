{
  "nbformat": 4,
  "nbformat_minor": 0,
  "metadata": {
    "colab": {
      "name": "MLconcepts.ipynb",
      "provenance": [],
      "authorship_tag": "ABX9TyNi8haRdp/qBUdSsyekElvw",
      "include_colab_link": true
    },
    "kernelspec": {
      "name": "python3",
      "display_name": "Python 3"
    }
  },
  "cells": [
    {
      "cell_type": "markdown",
      "metadata": {
        "id": "view-in-github",
        "colab_type": "text"
      },
      "source": [
        "<a href=\"https://colab.research.google.com/github/mounesi/fun/blob/master/MLconcepts.ipynb\" target=\"_parent\"><img src=\"https://colab.research.google.com/assets/colab-badge.svg\" alt=\"Open In Colab\"/></a>"
      ]
    },
    {
      "cell_type": "markdown",
      "metadata": {
        "id": "RcAU0e8Fm-7v",
        "colab_type": "text"
      },
      "source": [
        "https://docs.google.com/document/d/1RyYBVevP6hcCxYRsXLt_-gO34zJeRI6kVb_n-MdoBaQ/edit\n",
        "\n",
        "\n",
        "Concept explanations: Choose two concepts and explain it to your partner, alternating turns.   Your partner should provide feedback on the clarity of your answer.  Once a round of explanation and feedback is complete, look at the ‘core ideas’ slips for the question - was anything missed?\n",
        "\n",
        "\n",
        "\n",
        "\n",
        "\n",
        "```\n",
        "Q1) Explain overfitting and how its combated.\n",
        "\n",
        "Overfitting happens when a model learns the detail and noise in the training \n",
        "data to the extent that it negatively impacts the performance of the model on \n",
        "new data. This means that the noise or random fluctuations in the training \n",
        "data is picked up and learned as concepts by the model.\n",
        "```\n",
        "\n",
        "```\n",
        "Q2) What is an ROC curve?  What do the different points along the curve mean?\n",
        "\n",
        "AUC - ROC curve is a performance measurement for classification problem at \n",
        "various thresholds settings. ROC is a probability curve and AUC represents \n",
        "degree or measure of separability. It tells how much model is capable of\n",
        "distinguishing between classes. Higher the AUC, better the model is at \n",
        "predicting 0s as 0s and 1s as 1s. By analogy, Higher the AUC, better the \n",
        "model is at distinguishing between patients with disease and no disease.\n",
        "```\n",
        "https://towardsdatascience.com/understanding-auc-roc-curve-68b2303cc9c5\n",
        "\n",
        "\n",
        "\n",
        "```\n",
        "A regression model that uses L1 regularization technique is called Lasso \n",
        "Regression and model which uses L2 is called Ridge Regression.\n",
        "The key difference between these two is the penalty term.\n",
        "Ridge regression adds “squared magnitude” of coefficient as penalty term to \n",
        "the loss function. Here the highlighted part represents L2 regularization \n",
        "element.\n",
        "```\n"
      ]
    },
    {
      "cell_type": "markdown",
      "metadata": {
        "id": "CfmgvZcH7Ddf",
        "colab_type": "text"
      },
      "source": [
        ""
      ]
    },
    {
      "cell_type": "code",
      "metadata": {
        "id": "1of3CDVZneAM",
        "colab_type": "code",
        "colab": {}
      },
      "source": [
        ""
      ],
      "execution_count": null,
      "outputs": []
    }
  ]
}