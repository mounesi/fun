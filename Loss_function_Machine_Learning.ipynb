{
  "nbformat": 4,
  "nbformat_minor": 0,
  "metadata": {
    "colab": {
      "name": "Machine_Learning.ipynb",
      "provenance": [],
      "authorship_tag": "ABX9TyM912+xGVqrEeHOgbx4vbF8",
      "include_colab_link": true
    },
    "kernelspec": {
      "name": "python3",
      "display_name": "Python 3"
    }
  },
  "cells": [
    {
      "cell_type": "markdown",
      "metadata": {
        "id": "view-in-github",
        "colab_type": "text"
      },
      "source": [
        "<a href=\"https://colab.research.google.com/github/mounesi/fun/blob/master/Loss_function_Machine_Learning.ipynb\" target=\"_parent\"><img src=\"https://colab.research.google.com/assets/colab-badge.svg\" alt=\"Open In Colab\"/></a>"
      ]
    },
    {
      "cell_type": "code",
      "metadata": {
        "id": "oh-z0RcEJpCr",
        "colab_type": "code",
        "colab": {}
      },
      "source": [
        ""
      ],
      "execution_count": null,
      "outputs": []
    },
    {
      "cell_type": "markdown",
      "metadata": {
        "id": "iuJLAK7wJyBc",
        "colab_type": "text"
      },
      "source": [
        "ML 1 \n",
        "What are the assumptions of logistic regression? What is its loss function? \n",
        "(ytrue-yhat) + \n",
        "x(ytrue-yhat)  \n",
        "\n",
        "Loss function if we are trying to maximize the likelihoood\n",
        "We are modeling the probability yi=1 for y1, y2, y3,....yn\n",
        "The likelihood given our fitted parameters p1, p2,.....pn is given by:\n",
        " P(y1,y2,.....yn) = p1^y1 * (1-p1)^(1-y1)................…pn^yn * (1-pn)^(1-yn) \n",
        "= f(y1,...yn, X1,...Xn, B1,...Bk)\n",
        "We want to maximize this, but its easier to maximize the log:\n",
        "y1 * log(p1) + (1-y1) *log(1-p1)  …...yn * log(pn)  \n",
        "\n",
        "This is equivalent to minimizing the sum over all i of:\n",
        "\t-yi * log(pi) - (1- yi) * log (1- pi)\n",
        "\n",
        "\n",
        "(1- pi) = probablity given x values and parameters that yi = 0\n",
        "yi = ground truth\n",
        "pi = predicted probability that yi=1 given x1i,...xki and the logistic regression parameters B1,....Bk\n",
        "log(pi/(1-pi)) = B1*X1i +...... Bk * XKi\n",
        "Observation i = (x1i,x2i,x3i ….xki, yi) # observation covariance\n",
        "\n",
        "o\n",
        "\n",
        "\n",
        "\n",
        "ML 2\n",
        "Explain Support Vector Machines. Things to start with: Class separation, transformations, kernels, regularization parameter, gamma, margin...\n",
        "\n",
        "ML 3\n",
        "What is dropout? Why is it a useful technique? \n"
      ]
    }
  ]
}