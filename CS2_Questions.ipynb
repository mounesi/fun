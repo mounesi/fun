{
  "nbformat": 4,
  "nbformat_minor": 0,
  "metadata": {
    "colab": {
      "name": "CS2_Questions.ipynb",
      "provenance": [],
      "authorship_tag": "ABX9TyPcd9o3GaZu5VXT+DWUrwpa",
      "include_colab_link": true
    },
    "kernelspec": {
      "name": "python3",
      "display_name": "Python 3"
    }
  },
  "cells": [
    {
      "cell_type": "markdown",
      "metadata": {
        "id": "view-in-github",
        "colab_type": "text"
      },
      "source": [
        "<a href=\"https://colab.research.google.com/github/mounesi/fun/blob/master/CS2_Questions.ipynb\" target=\"_parent\"><img src=\"https://colab.research.google.com/assets/colab-badge.svg\" alt=\"Open In Colab\"/></a>"
      ]
    },
    {
      "cell_type": "code",
      "metadata": {
        "id": "T7jyOfDnMLQH",
        "colab_type": "code",
        "colab": {}
      },
      "source": [
        ""
      ],
      "execution_count": null,
      "outputs": []
    },
    {
      "cell_type": "markdown",
      "metadata": {
        "id": "muTP7ouxML-b",
        "colab_type": "text"
      },
      "source": [
        "https://docs.google.com/document/d/1O5jLCPlM5zyUaYY7lQM0BpUpZcNnoRivvb1F88_vh64/edit"
      ]
    },
    {
      "cell_type": "code",
      "metadata": {
        "id": "qbKeh_AGMNNQ",
        "colab_type": "code",
        "colab": {}
      },
      "source": [
        ""
      ],
      "execution_count": null,
      "outputs": []
    }
  ]
}