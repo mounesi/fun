{
  "nbformat": 4,
  "nbformat_minor": 0,
  "metadata": {
    "colab": {
      "name": "MLandStats.ipynb",
      "provenance": [],
      "authorship_tag": "ABX9TyPg37n1T6vcwWODrjSqI2J6",
      "include_colab_link": true
    },
    "kernelspec": {
      "name": "python3",
      "display_name": "Python 3"
    }
  },
  "cells": [
    {
      "cell_type": "markdown",
      "metadata": {
        "id": "view-in-github",
        "colab_type": "text"
      },
      "source": [
        "<a href=\"https://colab.research.google.com/github/mounesi/fun/blob/master/MLandStats.ipynb\" target=\"_parent\"><img src=\"https://colab.research.google.com/assets/colab-badge.svg\" alt=\"Open In Colab\"/></a>"
      ]
    },
    {
      "cell_type": "markdown",
      "metadata": {
        "id": "FowKNoxINl_F",
        "colab_type": "text"
      },
      "source": [
        "Questions:\n",
        "\n",
        "https://docs.google.com/document/d/1sTHaT1bXHzb40-BpVQN_QXk1uUC2gzC2NYo5-mYwwTY/edit\n",
        "\n",
        "Solutions:\n",
        "\n",
        "https://docs.google.com/document/d/1Rd_XZmQzyNAIMpSfTK0G9FlneL8ynhxFBYGLjFQr5CQ/edit"
      ]
    },
    {
      "cell_type": "markdown",
      "metadata": {
        "id": "4Jx0R0A4NqhU",
        "colab_type": "text"
      },
      "source": [
        "Stats 1\n",
        "\n",
        "What is R2 and what are its possible values in and out of sample (i.e., for the train and test sets)?"
      ]
    },
    {
      "cell_type": "markdown",
      "metadata": {
        "id": "OxS6f65lOPtL",
        "colab_type": "text"
      },
      "source": [
        "R-squared (R2) is a statistical measure that represents the proportion of the variance for a dependent variable that's explained by an independent variable or variables in a regression model. Whereas correlation explains the strength of the relationship between an independent and dependent variable, R-squared explains to what extent the variance of one variable explains the variance of the second variable. So, if the R2 of a model is 0.50, then approximately half of the observed variation can be explained by the model's inputs."
      ]
    },
    {
      "cell_type": "markdown",
      "metadata": {
        "id": "Da9GGSlgNr8i",
        "colab_type": "text"
      },
      "source": [
        "By the \"sample\" it is meant the data sample that you are using to fit the model.\n",
        "\n",
        "First - you have a sample\n",
        "Second - you fit a model on the sample\n",
        "Third - you can use the model for forecasting\n",
        "\n",
        "If you are forecasting for an observation that was part of the data sample - it is in-sample forecast.\n",
        "\n",
        "If you are forecasting for an observation that was not part of the data sample - it is out-of-sample forecast."
      ]
    },
    {
      "cell_type": "markdown",
      "metadata": {
        "id": "ETEmR2cSPDof",
        "colab_type": "text"
      },
      "source": [
        "Variance (of a discrete random variable) A measure of spread for a distribution of a random variable that determines the degree to which the values of a random variable differ from the expected value. The variance of random variable X is often written as Var(X) or σ2 or σ2"
      ]
    },
    {
      "cell_type": "markdown",
      "metadata": {
        "id": "Bb8s4neqPLa1",
        "colab_type": "text"
      },
      "source": [
        ""
      ]
    },
    {
      "cell_type": "markdown",
      "metadata": {
        "id": "48J1BHyqPLrF",
        "colab_type": "text"
      },
      "source": [
        ""
      ]
    },
    {
      "cell_type": "code",
      "metadata": {
        "id": "CzAzfLQuPKW3",
        "colab_type": "code",
        "colab": {}
      },
      "source": [
        ""
      ],
      "execution_count": null,
      "outputs": []
    },
    {
      "cell_type": "code",
      "metadata": {
        "id": "H0qi03EINmv1",
        "colab_type": "code",
        "colab": {}
      },
      "source": [
        ""
      ],
      "execution_count": null,
      "outputs": []
    }
  ]
}