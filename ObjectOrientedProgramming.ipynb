{
  "nbformat": 4,
  "nbformat_minor": 0,
  "metadata": {
    "colab": {
      "name": "ObjectOrientedProgramming.ipynb",
      "provenance": [],
      "authorship_tag": "ABX9TyMc5pHpCIZ/WnWXEXIVTf62",
      "include_colab_link": true
    },
    "kernelspec": {
      "name": "python3",
      "display_name": "Python 3"
    }
  },
  "cells": [
    {
      "cell_type": "markdown",
      "metadata": {
        "id": "view-in-github",
        "colab_type": "text"
      },
      "source": [
        "<a href=\"https://colab.research.google.com/github/mounesi/fun/blob/master/ObjectOrientedProgramming.ipynb\" target=\"_parent\"><img src=\"https://colab.research.google.com/assets/colab-badge.svg\" alt=\"Open In Colab\"/></a>"
      ]
    },
    {
      "cell_type": "markdown",
      "metadata": {
        "id": "T9uQnJr2P-wm",
        "colab_type": "text"
      },
      "source": [
        "https://docs.google.com/document/d/1t_acZuQgYUuDQQHRGHz_nF8cirdRoLuhRXgEYF0NEQc/edit"
      ]
    },
    {
      "cell_type": "code",
      "metadata": {
        "id": "uxzdza4ZJxtJ",
        "colab_type": "code",
        "colab": {}
      },
      "source": [
        "# Monotonic Array\n",
        "\n",
        "def isMonotonic(self, A):\n",
        "  increasing = decreasing = True\n",
        "  for i in xrange(len(A) - 1):\n",
        "    if A[i] > A[i+1]:\n",
        "      increasing = False\n",
        "    if A[i] < A[i+1]:\n",
        "      decreasing = False\n",
        "    return increasing or decreasing\n",
        "\n",
        "\n",
        "def containsduplicate(x):\n",
        "  seen ={}\n",
        "  for i in range(len(x)):\n",
        "    if x[i] in seen:\n",
        "      return True\n",
        "    else:\n",
        "      seen[x[i]] = 1\n",
        "  return False\n",
        "\n",
        "def twoSums(x, target):\n",
        "  in_dict = {}\n",
        "  count = 0\n",
        "  positions = []\n",
        "  for i,value in enumerate(x):\n",
        "    if value == target/2:\n",
        "      count += 1\n",
        "      positions.append(i)\n",
        "  if count == 2:\n",
        "    return positions\n",
        "\n",
        "  for indx, i in enumerate(x):\n",
        "    in_dict[i] = indx\n",
        "  for i in in_dict:\n",
        "    if (target-i in in_dict and in_dict[target-i] != in_dict[i]):\n",
        "      return (in_dict[i], in_dict[target-i])\n",
        "  \n",
        "    \n",
        "if __name__=='__main__':\n",
        "  x = [3,3]\n",
        "  print(twoSums(x,6))\n",
        "\n",
        "class Solution(object):\n",
        "    def twoSum(self, nums, target):\n",
        "        for i in range(len(nums)):\n",
        "            for j in range(i+1, len(nums)):\n",
        "                if nums[i] + nums[j]  == target:\n",
        "                    return (i, j)\n",
        "\n",
        "    \n",
        "\n",
        "def twoSum(self, nums, target):\n",
        "        seen = {}\n",
        "        for i, v in enumerate(nums):\n",
        "            remaining = target - v\n",
        "            if remaining in seen:\n",
        "                return [seen[remaining], i]\n",
        "            seen[v] = i\n",
        "        return []"
      ],
      "execution_count": null,
      "outputs": []
    }
  ]
}